{
 "cells": [
  {
   "cell_type": "code",
   "execution_count": 2,
   "metadata": {
    "scrolled": true
   },
   "outputs": [
    {
     "name": "stdout",
     "output_type": "stream",
     "text": [
      "Requirement already satisfied: python-dotenv in c:\\programdata\\anaconda2\\lib\\site-packages\n",
      "Requirement already satisfied: click>=5.0 in c:\\programdata\\anaconda2\\lib\\site-packages (from python-dotenv)\n"
     ]
    }
   ],
   "source": [
    "!pip install python-dotenv"
   ]
  },
  {
   "cell_type": "code",
   "execution_count": 3,
   "metadata": {
    "collapsed": true
   },
   "outputs": [],
   "source": [
    "from dotenv import load_dotenv, find_dotenv"
   ]
  },
  {
   "cell_type": "code",
   "execution_count": 4,
   "metadata": {},
   "outputs": [
    {
     "data": {
      "text/plain": [
       "True"
      ]
     },
     "execution_count": 4,
     "metadata": {},
     "output_type": "execute_result"
    }
   ],
   "source": [
    "# find .env by recursively walking up directories until its found\n",
    "dotenv_path = find_dotenv()\n",
    "# load the entries as environment variables\n",
    "load_dotenv(dotenv_path)    "
   ]
  },
  {
   "cell_type": "code",
   "execution_count": 5,
   "metadata": {
    "scrolled": true
   },
   "outputs": [
    {
     "name": "stdout",
     "output_type": "stream",
     "text": [
      "strum7\n"
     ]
    }
   ],
   "source": [
    "# extraction of environment variables\n",
    "import os\n",
    "KAGGLE_USERNAME = os.environ.get(\"KAGGLE_USERNAME\")\n",
    "print(KAGGLE_USERNAME)\n",
    "KAGGLE_PASSWORD = os.environ.get(\"KAGGLE_PASSWORD\")"
   ]
  },
  {
   "cell_type": "code",
   "execution_count": 6,
   "metadata": {
    "collapsed": true
   },
   "outputs": [],
   "source": [
    "# imports\n",
    "import requests\n",
    "from requests import session\n",
    "import os\n",
    "from dotenv import load_dotenv, find_dotenv"
   ]
  },
  {
   "cell_type": "code",
   "execution_count": 7,
   "metadata": {
    "scrolled": false
   },
   "outputs": [],
   "source": [
    "# setting up payload for post\n",
    "payload = {\n",
    "    'action':'login',\n",
    "    'username': os.environ.get(\"KAGGLE_USERNAME\"),\n",
    "    'password': os.environ.get(\"KAGGLE_PASSWORD\")\n",
    "    \n",
    "}\n",
    "\n",
    "# Set up URL for train file - Online link - Copy link from download button\n",
    "url = \"https://www.kaggle.com/c/titanic/download/train.csv\"\n",
    "\n",
    "# Set up Session \n",
    "with session() as c:\n",
    "    \n",
    "    #post request\n",
    "    c.post('https://www.kaggle.com/account/login',data=payload)\n",
    "    \n",
    "    #get request\n",
    "    response = c.get(url)\n",
    "    \n",
    "    # print response text\n",
    "   # print(response.text)\n",
    "    \n"
   ]
  },
  {
   "cell_type": "code",
   "execution_count": 16,
   "metadata": {
    "collapsed": true
   },
   "outputs": [],
   "source": [
    "def extract_data(url, file_path):\n",
    "    '''\n",
    "    Extract Data from Kaggle\n",
    "    '''\n",
    "    # setup session\n",
    "    with session() as c:\n",
    "        c.post('https://www.kaggle.com/account/login',data=payload)\n",
    "        # open file to write\n",
    "        with open(file_path, 'w') as handle:\n",
    "            response = c.get(url,stream= True)\n",
    "            for block in response.iter_content(1024):\n",
    "                handle.write(block)"
   ]
  },
  {
   "cell_type": "code",
   "execution_count": 17,
   "metadata": {},
   "outputs": [],
   "source": [
    "# urls\n",
    "train_url = \"https://www.kaggle.com/c/titanic/download/train.csv\"\n",
    "test_url = \"https://www.kaggle.com/c/titanic/download/test.csv\"\n",
    "\n",
    "#file paths\n",
    "raw_data_path = os.path.join(os.path.pardir,'data','raw')\n",
    "train_data_path = os.path.join(raw_data_path,'train.csv')\n",
    "test_data_path = os.path.join(raw_data_path,'test.csv')\n",
    "\n",
    "#extract data\n",
    "extract_data(train_url,train_data_path)\n",
    "extract_data(test_url,test_data_path)\n"
   ]
  },
  {
   "cell_type": "code",
   "execution_count": 20,
   "metadata": {},
   "outputs": [
    {
     "name": "stdout",
     "output_type": "stream",
     "text": [
      "total 96\n",
      "-rw-r--r-- 1 ss 1049089 29048 Jan 18 11:03 test.csv\n",
      "-rw-r--r-- 1 ss 1049089 62086 Jan 18 11:03 train.csv\n"
     ]
    }
   ],
   "source": [
    "!ls -l ../data/raw\n"
   ]
  },
  {
   "cell_type": "code",
   "execution_count": 22,
   "metadata": {},
   "outputs": [],
   "source": [
    "get_raw_data_script_file = os.path.join(os.path.pardir,'src','data','get_raw_data.py')"
   ]
  },
  {
   "cell_type": "markdown",
   "metadata": {},
   "source": [
    "# Building the file Script"
   ]
  },
  {
   "cell_type": "code",
   "execution_count": null,
   "metadata": {
    "collapsed": true
   },
   "outputs": [],
   "source": []
  }
 ],
 "metadata": {
  "kernelspec": {
   "display_name": "Python 2",
   "language": "python",
   "name": "python2"
  },
  "language_info": {
   "codemirror_mode": {
    "name": "ipython",
    "version": 2
   },
   "file_extension": ".py",
   "mimetype": "text/x-python",
   "name": "python",
   "nbconvert_exporter": "python",
   "pygments_lexer": "ipython2",
   "version": "2.7.14"
  }
 },
 "nbformat": 4,
 "nbformat_minor": 2
}
